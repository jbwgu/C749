{
  "nbformat": 4,
  "nbformat_minor": 0,
  "metadata": {
    "kernelspec": {
      "display_name": "Python [default]",
      "language": "python",
      "name": "python3"
    },
    "language_info": {
      "codemirror_mode": {
        "name": "ipython",
        "version": 3
      },
      "file_extension": ".py",
      "mimetype": "text/x-python",
      "name": "python",
      "nbconvert_exporter": "python",
      "pygments_lexer": "ipython3",
      "version": "3.5.3"
    },
    "colab": {
      "name": "Investigate_A_Dataset.ipynb",
      "provenance": []
    }
  },
  "cells": [
    {
      "cell_type": "markdown",
      "metadata": {
        "id": "FpQoMelSPEQw",
        "colab_type": "text"
      },
      "source": [
        "# Mount Google Drive and Clone GitHub Repository"
      ]
    },
    {
      "cell_type": "code",
      "metadata": {
        "id": "rZrelDw9PDzA",
        "colab_type": "code",
        "colab": {}
      },
      "source": [
        "%matplotlib inline\n",
        "import os\n",
        "from getpass import getpass\n",
        "import urllib\n",
        "\n",
        "# Mount Google Drive\n",
        "from google.colab import drive\n",
        "drive.mount('/content/gdrive')\n",
        "root_dir = \"/content/gdrive/My Drive/\""
      ],
      "execution_count": 0,
      "outputs": []
    },
    {
      "cell_type": "code",
      "metadata": {
        "id": "9EUD9kKnPSZY",
        "colab_type": "code",
        "colab": {}
      },
      "source": [
        "# Change mount location\n",
        "%cd gdrive/My\\ Drive/"
      ],
      "execution_count": 0,
      "outputs": []
    },
    {
      "cell_type": "code",
      "metadata": {
        "id": "mmrxU8qoPWoV",
        "colab_type": "code",
        "colab": {}
      },
      "source": [
        "# clone GitHub Report for C749 - Udacity Nanodegree\n",
        "! git clone https://github.com/jbwgu/C749.git"
      ],
      "execution_count": 0,
      "outputs": []
    },
    {
      "cell_type": "code",
      "metadata": {
        "id": "R-GHlfKdPv07",
        "colab_type": "code",
        "colab": {}
      },
      "source": [
        "# Verify repository and Resource Path\n",
        "!ls C749/\n",
        "print('---')\n",
        "!ls C749/Projects/\n",
        "print('---')"
      ],
      "execution_count": 0,
      "outputs": []
    },
    {
      "cell_type": "markdown",
      "metadata": {
        "id": "PodNrCAWW-Ns",
        "colab_type": "text"
      },
      "source": [
        "# Project: Investigate a Dataset\n",
        "\n",
        "Leverage Python programming language to perform initial data clensing and data analysis.\n",
        "\n",
        "## Table of Contents\n",
        "<ul>\n",
        "<li><a href=\"#intro\">Introduction</a></li>\n",
        "<li><a href=\"#wrangling\">Data Wrangling</a></li>\n",
        "<li><a href=\"#eda\">Exploratory Data Analysis</a></li>\n",
        "<li><a href=\"#conclusions\">Conclusions</a></li>\n",
        "</ul>"
      ]
    },
    {
      "cell_type": "markdown",
      "metadata": {
        "id": "FX9cTh3eW-Ny",
        "colab_type": "text"
      },
      "source": [
        "<a id='intro'></a>\n",
        "## Introduction"
      ]
    },
    {
      "cell_type": "code",
      "metadata": {
        "id": "L56pqoTjW-N0",
        "colab_type": "code",
        "colab": {}
      },
      "source": [
        "%matplotlib inline\n",
        "\n",
        "import numpy as np\n",
        "import pandas as pd\n",
        "import matplotlib as plot"
      ],
      "execution_count": 0,
      "outputs": []
    },
    {
      "cell_type": "markdown",
      "metadata": {
        "id": "1RrnS0c-W-N8",
        "colab_type": "text"
      },
      "source": [
        "<a id='wrangling'></a>\n",
        "## Data Wrangling"
      ]
    },
    {
      "cell_type": "markdown",
      "metadata": {
        "id": "A7KDYTFmbsCZ",
        "colab_type": "text"
      },
      "source": [
        "### Import Data"
      ]
    },
    {
      "cell_type": "code",
      "metadata": {
        "id": "Mb32L8HmbxUR",
        "colab_type": "code",
        "colab": {}
      },
      "source": [
        "# Load data and print head/tail."
      ],
      "execution_count": 0,
      "outputs": []
    },
    {
      "cell_type": "markdown",
      "metadata": {
        "id": "mUO0FgXDbpNK",
        "colab_type": "text"
      },
      "source": [
        "### General Properties"
      ]
    },
    {
      "cell_type": "code",
      "metadata": {
        "id": "Lt1RFBrKW-N9",
        "colab_type": "code",
        "colab": {}
      },
      "source": [
        " # Perform operations to inspect data types and look for instances of missing or possibly errant data.\n"
      ],
      "execution_count": 0,
      "outputs": []
    },
    {
      "cell_type": "markdown",
      "metadata": {
        "id": "QyL1Izh6W-OC",
        "colab_type": "text"
      },
      "source": [
        "### Data Cleaning\n",
        "\n",
        "*   Remove Duplicates\n",
        "*   Fillna"
      ]
    },
    {
      "cell_type": "code",
      "metadata": {
        "id": "nmiBXAodW-OE",
        "colab_type": "code",
        "colab": {}
      },
      "source": [
        "# After discussing the structure of the data and any problems that need to be cleaned, perform those cleaning steps in the second part of this section.\n"
      ],
      "execution_count": 0,
      "outputs": []
    },
    {
      "cell_type": "markdown",
      "metadata": {
        "id": "NBnRcOgRcfj8",
        "colab_type": "text"
      },
      "source": [
        "### Data Classification (Catigorical/Continuous)"
      ]
    },
    {
      "cell_type": "code",
      "metadata": {
        "id": "7MhyebsOcfCg",
        "colab_type": "code",
        "colab": {}
      },
      "source": [
        "# Identify Catigorical/Continuous variables/fields"
      ],
      "execution_count": 0,
      "outputs": []
    },
    {
      "cell_type": "markdown",
      "metadata": {
        "id": "_uGNA3Y7W-OK",
        "colab_type": "text"
      },
      "source": [
        "<a id='eda'></a>\n",
        "## Exploratory Data Analysis\n",
        "### Research Question 1\n",
        "* What are some potential analysis goals that leverage the curated data?"
      ]
    },
    {
      "cell_type": "code",
      "metadata": {
        "id": "KXZyFRjJW-ON",
        "colab_type": "code",
        "colab": {}
      },
      "source": [
        "\n"
      ],
      "execution_count": 0,
      "outputs": []
    },
    {
      "cell_type": "markdown",
      "metadata": {
        "id": "0G-avZ31W-OR",
        "colab_type": "text"
      },
      "source": [
        "### Research Question 2\n",
        "* What are the critical variables that impact answers to Question 1?"
      ]
    },
    {
      "cell_type": "code",
      "metadata": {
        "id": "-ftPk7pGW-OT",
        "colab_type": "code",
        "colab": {}
      },
      "source": [
        "# Continue to explore the data to address your additional research questions. Add more headers as needed if you have more questions to investigate.\n"
      ],
      "execution_count": 0,
      "outputs": []
    },
    {
      "cell_type": "markdown",
      "metadata": {
        "id": "LOvMTLYWW-Ob",
        "colab_type": "text"
      },
      "source": [
        "<a id='conclusions'></a>\n",
        "## Conclusions"
      ]
    },
    {
      "cell_type": "code",
      "metadata": {
        "id": "VA_w2Y-NW-Od",
        "colab_type": "code",
        "colab": {}
      },
      "source": [
        ""
      ],
      "execution_count": 0,
      "outputs": []
    }
  ]
}